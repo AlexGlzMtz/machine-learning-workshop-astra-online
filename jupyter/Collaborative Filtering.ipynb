{
 "cells": [
  {
   "cell_type": "markdown",
   "metadata": {},
   "source": [
    "# Demo 5: Collaborative Filtering and Comedy! \n",
    "------\n",
    "<img src=\"images/seinfeld.jpg\" width=\"400\" height=\"400\">\n",
    "\n",
    "#### Real Dataset: http://eigentaste.berkeley.edu/dataset/ Dataset 2 \n",
    "#### Rate Jokes: http://eigentaste.berkeley.edu"
   ]
  },
  {
   "cell_type": "markdown",
   "metadata": {},
   "source": [
    "## What are we trying to learn from this dataset?\n",
    "\n",
    "# QUESTION:  Can Collaborative Filtering be used to find which jokes to recommend to our users?\n"
   ]
  },
  {
   "cell_type": "code",
   "execution_count": 1,
   "metadata": {},
   "outputs": [],
   "source": [
    "%matplotlib inline\n",
    "import matplotlib.pyplot as plt"
   ]
  },
  {
   "cell_type": "code",
   "execution_count": 2,
   "metadata": {},
   "outputs": [],
   "source": [
    "import pandas\n",
    "import cassandra\n",
    "import pyspark\n",
    "import re\n",
    "import os\n",
    "import matplotlib.pyplot as plt\n",
    "from IPython.display import IFrame\n",
    "from IPython.display import display, Markdown\n",
    "from pyspark.sql import SparkSession\n",
    "from pyspark.ml.evaluation import RegressionEvaluator\n",
    "from pyspark.ml.recommendation import ALS\n",
    "from pyspark.sql import Row"
   ]
  },
  {
   "cell_type": "markdown",
   "metadata": {},
   "source": [
    "#### Helper function to have nicer formatting of Spark DataFrames"
   ]
  },
  {
   "cell_type": "code",
   "execution_count": 3,
   "metadata": {},
   "outputs": [],
   "source": [
    "#Helper for pretty formatting for Spark DataFrames\n",
    "def showDF(df, limitRows =  10, truncate = False):\n",
    "    if(truncate):\n",
    "        pandas.set_option('display.max_colwidth', 100)\n",
    "    else:\n",
    "        pandas.set_option('display.max_colwidth', None)\n",
    "    pandas.set_option('display.max_rows', limitRows)\n",
    "    display(df.limit(limitRows).toPandas())\n",
    "    pandas.reset_option('display.max_rows')"
   ]
  },
  {
   "cell_type": "markdown",
   "metadata": {},
   "source": [
    "## Creating Tables and Loading Tables"
   ]
  },
  {
   "cell_type": "markdown",
   "metadata": {},
   "source": [
    "### Connect to Cassandra"
   ]
  },
  {
   "cell_type": "code",
   "execution_count": 4,
   "metadata": {},
   "outputs": [],
   "source": [
    "from cassandra.cluster import Cluster\n",
    "from cassandra.auth import PlainTextAuthProvider\n",
    "\n",
    "cloud_config = {\n",
    "    'secure_connect_bundle': '/home/jovyan/secureconnect/secure-connect-colvin-better-botz.zip'\n",
    "}\n",
    "auth_provider = PlainTextAuthProvider(username='james', password='@DSjwc127!')\n",
    "cluster = Cluster(cloud=cloud_config, auth_provider=auth_provider)\n",
    "session = cluster.connect()"
   ]
  },
  {
   "cell_type": "markdown",
   "metadata": {},
   "source": [
    "### Create Demo Keyspace "
   ]
  },
  {
   "cell_type": "code",
   "execution_count": null,
   "metadata": {},
   "outputs": [],
   "source": [
    "session.execute(\"\"\"\n",
    "    CREATE KEYSPACE IF NOT EXISTS accelerate \n",
    "    WITH REPLICATION = \n",
    "    { 'class' : 'SimpleStrategy', 'replication_factor' : 1 }\"\"\"\n",
    ")"
   ]
  },
  {
   "cell_type": "markdown",
   "metadata": {},
   "source": [
    "### Set keyspace "
   ]
  },
  {
   "cell_type": "code",
   "execution_count": 5,
   "metadata": {},
   "outputs": [],
   "source": [
    "session.set_keyspace('betterbotz')"
   ]
  },
  {
   "cell_type": "markdown",
   "metadata": {},
   "source": [
    "### Create table called jokes. Our PRIMARY will need to be a unique composite key (userid, jokeid). This will result in an even distribution of the data and allow for each row to be unique. Remember we will have to utilize that PRIMARY KEY in our WHERE clause in any of our CQL queries. "
   ]
  },
  {
   "cell_type": "code",
   "execution_count": null,
   "metadata": {},
   "outputs": [],
   "source": [
    "query = \"CREATE TABLE IF NOT EXISTS jokes \\\n",
    "                                    (userid int, jokeid int, rating float, \\\n",
    "                                     PRIMARY KEY (userid, jokeid))\"\n",
    "session.execute(query)"
   ]
  },
  {
   "cell_type": "markdown",
   "metadata": {},
   "source": [
    "### What do these of these 3 columns represent: \n",
    "\n",
    "* **Column 1**: User id\n",
    "* **Column 2**: Joke id\n",
    "* **Column 3**: Rating of joke (-10.00 - 10.00) "
   ]
  },
  {
   "cell_type": "markdown",
   "metadata": {},
   "source": [
    "### Load Jokes dataset from CSV file (jester_ratings3.csv)\n",
    "* This is a file I created from the *.dat file and I only have 10,000 rows -- dataset has over 1 million rows\n",
    "<img src=\"images/laughing.gif\" width=\"300\" height=\"300\">\n",
    "\n",
    "#### Insert all the Joke Rating Data into the table `jokes`"
   ]
  },
  {
   "cell_type": "code",
   "execution_count": null,
   "metadata": {},
   "outputs": [],
   "source": [
    "fileName = 'data/jester_ratings3.csv'\n",
    "input_file = open(fileName, 'r')\n",
    "\n",
    "for line in input_file:\n",
    "    jokeRow = line.split(',')\n",
    "    query = \"INSERT INTO jokes (userid, jokeid, rating)\"\n",
    "    \n",
    "    query = query + \"VALUES (%s, %s, %s)\"\n",
    "    \n",
    "    session.execute(query, (int(jokeRow[0]), int(jokeRow[1]) , float(jokeRow[2]) ))"
   ]
  },
  {
   "cell_type": "markdown",
   "metadata": {},
   "source": [
    "#### Do a select * on joke_table WHERE userid = x to verify that data was loaded into the table"
   ]
  },
  {
   "cell_type": "code",
   "execution_count": 6,
   "metadata": {
    "scrolled": true
   },
   "outputs": [
    {
     "name": "stdout",
     "output_type": "stream",
     "text": [
      "65 5 9.875\n",
      "65 7 9.718999862670898\n",
      "65 8 10.0\n",
      "65 13 8.625\n",
      "65 15 7.406000137329102\n",
      "65 16 -9.875\n",
      "65 17 -9.531000137329102\n",
      "65 18 -8.5\n",
      "65 19 -7.156000137329102\n",
      "65 20 -0.09399999678134918\n",
      "65 21 6.938000202178955\n",
      "65 22 10.0\n",
      "65 23 9.937999725341797\n",
      "65 24 6.843999862670898\n",
      "65 25 10.0\n",
      "65 26 9.968999862670898\n",
      "65 27 3.2809998989105225\n",
      "65 28 9.968999862670898\n",
      "65 29 2.0309998989105225\n",
      "65 30 10.0\n",
      "65 31 6.938000202178955\n",
      "65 32 2.937999963760376\n",
      "65 33 10.0\n",
      "65 34 10.0\n",
      "65 35 5.75\n",
      "65 36 2.875\n",
      "65 37 10.0\n",
      "65 38 10.0\n",
      "65 39 9.937999725341797\n",
      "65 40 9.968999862670898\n",
      "65 41 10.0\n",
      "65 42 9.968999862670898\n",
      "65 43 10.0\n",
      "65 44 9.875\n",
      "65 45 9.968999862670898\n",
      "65 46 9.812000274658203\n",
      "65 47 10.0\n",
      "65 48 6.938000202178955\n",
      "65 49 6.938000202178955\n",
      "65 50 1.0\n",
      "65 51 10.0\n",
      "65 52 9.968999862670898\n",
      "65 53 6.0\n",
      "65 54 6.938000202178955\n",
      "65 55 9.937999725341797\n",
      "65 56 10.0\n",
      "65 57 9.875\n",
      "65 58 9.875\n",
      "65 59 10.0\n",
      "65 60 10.0\n",
      "65 61 6.938000202178955\n",
      "65 62 6.938000202178955\n",
      "65 63 9.937999725341797\n",
      "65 64 9.937999725341797\n",
      "65 65 6.938000202178955\n",
      "65 66 6.938000202178955\n",
      "65 67 9.875\n",
      "65 68 6.938000202178955\n",
      "65 69 6.0\n",
      "65 70 10.0\n",
      "65 71 10.0\n",
      "65 72 6.938000202178955\n",
      "65 73 9.75\n",
      "65 74 9.875\n",
      "65 75 10.0\n",
      "65 76 10.0\n",
      "65 77 10.0\n",
      "65 78 9.812000274658203\n",
      "65 79 10.0\n",
      "65 80 10.0\n",
      "65 81 6.938000202178955\n",
      "65 82 9.937999725341797\n",
      "65 83 6.938000202178955\n",
      "65 84 10.0\n",
      "65 85 9.968999862670898\n",
      "65 86 10.0\n",
      "65 87 9.937999725341797\n",
      "65 88 10.0\n",
      "65 89 6.0\n",
      "65 90 10.0\n",
      "65 91 9.968999862670898\n",
      "65 92 9.968999862670898\n",
      "65 93 9.937999725341797\n",
      "65 94 9.937999725341797\n",
      "65 95 9.968999862670898\n",
      "65 96 10.0\n",
      "65 97 10.0\n",
      "65 98 9.968999862670898\n",
      "65 99 10.0\n",
      "65 100 9.968999862670898\n",
      "65 101 9.968999862670898\n",
      "65 102 10.0\n",
      "65 103 9.968999862670898\n",
      "65 104 -3.687999963760376\n",
      "65 105 9.937999725341797\n",
      "65 106 9.968999862670898\n",
      "65 107 9.968999862670898\n",
      "65 108 10.0\n",
      "65 109 10.0\n",
      "65 110 8.375\n",
      "65 111 9.0\n",
      "65 112 0.9380000233650208\n",
      "65 113 9.812000274658203\n",
      "65 114 7.811999797821045\n",
      "65 115 6.281000137329102\n",
      "65 116 9.437999725341797\n",
      "65 117 7.156000137329102\n",
      "65 118 7.811999797821045\n",
      "65 119 9.812000274658203\n",
      "65 120 5.781000137329102\n",
      "65 121 9.968999862670898\n",
      "65 122 9.906000137329102\n",
      "65 123 9.968999862670898\n",
      "65 124 9.937999725341797\n",
      "65 125 9.968999862670898\n",
      "65 126 9.875\n",
      "65 127 9.968999862670898\n",
      "65 128 9.937999725341797\n",
      "65 129 9.937999725341797\n",
      "65 130 9.968999862670898\n"
     ]
    }
   ],
   "source": [
    "query = 'SELECT * FROM jokes WHERE userid = 65'\n",
    "rows = session.execute(query)\n",
    "for row in rows:\n",
    "    print (row.userid, row.jokeid, row.rating)"
   ]
  },
  {
   "cell_type": "markdown",
   "metadata": {},
   "source": [
    "<img src=\"images/sparklogo.png\" width=\"150\" height=\"200\">"
   ]
  },
  {
   "cell_type": "markdown",
   "metadata": {},
   "source": [
    "### Finally time for Apache Spark! "
   ]
  },
  {
   "cell_type": "markdown",
   "metadata": {},
   "source": [
    "#### Create a spark session that is connected to Cassandra. From there load each table into a Spark Dataframe and take a count of the number of rows in each."
   ]
  },
  {
   "cell_type": "code",
   "execution_count": 8,
   "metadata": {},
   "outputs": [
    {
     "name": "stdout",
     "output_type": "stream",
     "text": [
      "Table Row Count: \n",
      "10000\n"
     ]
    }
   ],
   "source": [
    "spark = SparkSession \\\n",
    "    .builder \\\n",
    "    .appName('demo') \\\n",
    "    .master(\"local\") \\\n",
    "    .config( \\\n",
    "        \"spark.cassandra.connection.config.cloud.path\", \\\n",
    "        \"file:/home/jovyan/secureconnect/secure-connect-colvin-better-botz.zip\") \\\n",
    "    .config(\"spark.cassandra.auth.username\", \"james\") \\\n",
    "    .config(\"spark.cassandra.auth.password\", \"@DSjwc127!\") \\\n",
    "    .getOrCreate()\n",
    "\n",
    "jokeTable = spark.read.format(\"org.apache.spark.sql.cassandra\").options(table=\"jokes\", keyspace=\"betterbotz\").load()\n",
    "\n",
    "print (\"Table Row Count: \")\n",
    "print (jokeTable.count())"
   ]
  },
  {
   "cell_type": "markdown",
   "metadata": {},
   "source": [
    "#### Split dataset into training and testing set "
   ]
  },
  {
   "cell_type": "code",
   "execution_count": 9,
   "metadata": {},
   "outputs": [
    {
     "data": {
      "text/html": [
       "<div>\n",
       "<style scoped>\n",
       "    .dataframe tbody tr th:only-of-type {\n",
       "        vertical-align: middle;\n",
       "    }\n",
       "\n",
       "    .dataframe tbody tr th {\n",
       "        vertical-align: top;\n",
       "    }\n",
       "\n",
       "    .dataframe thead th {\n",
       "        text-align: right;\n",
       "    }\n",
       "</style>\n",
       "<table border=\"1\" class=\"dataframe\">\n",
       "  <thead>\n",
       "    <tr style=\"text-align: right;\">\n",
       "      <th></th>\n",
       "      <th>userid</th>\n",
       "      <th>jokeid</th>\n",
       "      <th>rating</th>\n",
       "    </tr>\n",
       "  </thead>\n",
       "  <tbody>\n",
       "    <tr>\n",
       "      <th>0</th>\n",
       "      <td>5</td>\n",
       "      <td>5</td>\n",
       "      <td>6</td>\n",
       "    </tr>\n",
       "    <tr>\n",
       "      <th>1</th>\n",
       "      <td>5</td>\n",
       "      <td>7</td>\n",
       "      <td>4</td>\n",
       "    </tr>\n",
       "    <tr>\n",
       "      <th>2</th>\n",
       "      <td>5</td>\n",
       "      <td>8</td>\n",
       "      <td>-5</td>\n",
       "    </tr>\n",
       "    <tr>\n",
       "      <th>3</th>\n",
       "      <td>5</td>\n",
       "      <td>13</td>\n",
       "      <td>0</td>\n",
       "    </tr>\n",
       "    <tr>\n",
       "      <th>4</th>\n",
       "      <td>5</td>\n",
       "      <td>15</td>\n",
       "      <td>-4</td>\n",
       "    </tr>\n",
       "    <tr>\n",
       "      <th>5</th>\n",
       "      <td>5</td>\n",
       "      <td>16</td>\n",
       "      <td>3</td>\n",
       "    </tr>\n",
       "    <tr>\n",
       "      <th>6</th>\n",
       "      <td>5</td>\n",
       "      <td>17</td>\n",
       "      <td>6</td>\n",
       "    </tr>\n",
       "    <tr>\n",
       "      <th>7</th>\n",
       "      <td>5</td>\n",
       "      <td>18</td>\n",
       "      <td>5</td>\n",
       "    </tr>\n",
       "    <tr>\n",
       "      <th>8</th>\n",
       "      <td>5</td>\n",
       "      <td>19</td>\n",
       "      <td>6</td>\n",
       "    </tr>\n",
       "    <tr>\n",
       "      <th>9</th>\n",
       "      <td>5</td>\n",
       "      <td>20</td>\n",
       "      <td>5</td>\n",
       "    </tr>\n",
       "  </tbody>\n",
       "</table>\n",
       "</div>"
      ],
      "text/plain": [
       "   userid  jokeid  rating\n",
       "0       5       5       6\n",
       "1       5       7       4\n",
       "2       5       8      -5\n",
       "3       5      13       0\n",
       "4       5      15      -4\n",
       "5       5      16       3\n",
       "6       5      17       6\n",
       "7       5      18       5\n",
       "8       5      19       6\n",
       "9       5      20       5"
      ]
     },
     "metadata": {},
     "output_type": "display_data"
    }
   ],
   "source": [
    "(training, test) = jokeTable.randomSplit([0.8, 0.2])\n",
    "\n",
    "training_df = training.withColumn(\"rating\", training.rating.cast('int'))\n",
    "testing_df = test.withColumn(\"rating\", test.rating.cast('int'))\n",
    "\n",
    "showDF(training_df)"
   ]
  },
  {
   "cell_type": "markdown",
   "metadata": {},
   "source": [
    "### Setup for CFliter with ALS\n",
    "\n",
    "https://spark.apache.org/docs/latest/ml-collaborative-filtering.html"
   ]
  },
  {
   "cell_type": "code",
   "execution_count": 10,
   "metadata": {},
   "outputs": [],
   "source": [
    "als = ALS(maxIter=5, regParam=0.01, userCol=\"userid\", itemCol=\"jokeid\", ratingCol=\"rating\",\n",
    "          coldStartStrategy=\"drop\")\n",
    "\n",
    "model = als.fit(training_df)"
   ]
  },
  {
   "cell_type": "code",
   "execution_count": 11,
   "metadata": {},
   "outputs": [
    {
     "data": {
      "text/html": [
       "<div>\n",
       "<style scoped>\n",
       "    .dataframe tbody tr th:only-of-type {\n",
       "        vertical-align: middle;\n",
       "    }\n",
       "\n",
       "    .dataframe tbody tr th {\n",
       "        vertical-align: top;\n",
       "    }\n",
       "\n",
       "    .dataframe thead th {\n",
       "        text-align: right;\n",
       "    }\n",
       "</style>\n",
       "<table border=\"1\" class=\"dataframe\">\n",
       "  <thead>\n",
       "    <tr style=\"text-align: right;\">\n",
       "      <th></th>\n",
       "      <th>userid</th>\n",
       "      <th>recommendations</th>\n",
       "    </tr>\n",
       "  </thead>\n",
       "  <tbody>\n",
       "    <tr>\n",
       "      <th>0</th>\n",
       "      <td>148</td>\n",
       "      <td>[(97, 30.287826538085938), (87, 25.366596221923828), (120, 25.031978607177734), (76, 24.890043258666992), (104, 23.9307918548584), (114, 22.42287826538086), (53, 21.929218292236328), (95, 21.208690643310547), (118, 21.16971206665039), (37, 20.66012191772461)]</td>\n",
       "    </tr>\n",
       "    <tr>\n",
       "      <th>1</th>\n",
       "      <td>243</td>\n",
       "      <td>[(120, 32.379642486572266), (41, 26.605640411376953), (37, 24.12421417236328), (71, 24.06833267211914), (138, 22.878767013549805), (125, 18.292133331298828), (146, 14.526366233825684), (27, 13.850459098815918), (58, 10.646146774291992), (87, 10.283836364746094)]</td>\n",
       "    </tr>\n",
       "    <tr>\n",
       "      <th>2</th>\n",
       "      <td>251</td>\n",
       "      <td>[(55, 13.173197746276855), (146, 13.0884370803833), (139, 12.635540962219238), (141, 7.326050758361816), (143, 2.9512789249420166), (138, 2.7054619789123535), (28, 1.7319763898849487), (59, 1.7102030515670776), (120, 1.5420844554901123), (134, 0.14325737953186035)]</td>\n",
       "    </tr>\n",
       "    <tr>\n",
       "      <th>3</th>\n",
       "      <td>85</td>\n",
       "      <td>[(33, 56.57527542114258), (73, 52.55316162109375), (39, 50.38872146606445), (105, 38.27677536010742), (60, 37.8847541809082), (74, 37.725341796875), (23, 37.699310302734375), (92, 36.5486946105957), (86, 36.41018295288086), (94, 36.00797653198242)]</td>\n",
       "    </tr>\n",
       "    <tr>\n",
       "      <th>4</th>\n",
       "      <td>137</td>\n",
       "      <td>[(82, 11.839689254760742), (103, 11.297845840454102), (7, 10.585664749145508), (100, 9.444416046142578), (85, 9.115898132324219), (44, 8.99427604675293), (8, 8.983870506286621), (145, 8.967763900756836), (21, 8.89068603515625), (71, 8.724923133850098)]</td>\n",
       "    </tr>\n",
       "    <tr>\n",
       "      <th>5</th>\n",
       "      <td>65</td>\n",
       "      <td>[(44, 12.585005760192871), (73, 11.871543884277344), (99, 11.64207935333252), (145, 11.426669120788574), (22, 11.040337562561035), (85, 11.000626564025879), (64, 10.954109191894531), (60, 10.921162605285645), (38, 10.692020416259766), (78, 10.53303050994873)]</td>\n",
       "    </tr>\n",
       "    <tr>\n",
       "      <th>6</th>\n",
       "      <td>53</td>\n",
       "      <td>[(146, 15.670921325683594), (33, 13.63193416595459), (38, 13.101275444030762), (46, 11.774742126464844), (110, 11.241178512573242), (23, 10.615825653076172), (25, 10.598196029663086), (60, 10.187507629394531), (128, 9.966042518615723), (105, 9.20401382446289)]</td>\n",
       "    </tr>\n",
       "    <tr>\n",
       "      <th>7</th>\n",
       "      <td>133</td>\n",
       "      <td>[(83, 11.999852180480957), (75, 11.122471809387207), (80, 10.408059120178223), (97, 9.939044952392578), (119, 9.043347358703613), (69, 8.9954833984375), (35, 8.953094482421875), (31, 8.839223861694336), (81, 8.43713092803955), (121, 8.344532012939453)]</td>\n",
       "    </tr>\n",
       "    <tr>\n",
       "      <th>8</th>\n",
       "      <td>155</td>\n",
       "      <td>[(103, 73.35855102539062), (44, 55.93171691894531), (121, 46.63677215576172), (55, 45.512474060058594), (85, 42.45634841918945), (51, 41.21355056762695), (79, 39.89340591430664), (78, 39.81708526611328), (88, 38.932743072509766), (100, 38.74076843261719)]</td>\n",
       "    </tr>\n",
       "    <tr>\n",
       "      <th>9</th>\n",
       "      <td>108</td>\n",
       "      <td>[(138, 27.454126358032227), (52, 22.09364891052246), (123, 19.40737533569336), (124, 18.9996337890625), (58, 17.746326446533203), (82, 16.416767120361328), (139, 15.855134010314941), (57, 15.353630065917969), (51, 9.520898818969727), (86, 9.35458755493164)]</td>\n",
       "    </tr>\n",
       "  </tbody>\n",
       "</table>\n",
       "</div>"
      ],
      "text/plain": [
       "   userid  \\\n",
       "0     148   \n",
       "1     243   \n",
       "2     251   \n",
       "3      85   \n",
       "4     137   \n",
       "5      65   \n",
       "6      53   \n",
       "7     133   \n",
       "8     155   \n",
       "9     108   \n",
       "\n",
       "                                                                                                                                                                                                                                                             recommendations  \n",
       "0        [(97, 30.287826538085938), (87, 25.366596221923828), (120, 25.031978607177734), (76, 24.890043258666992), (104, 23.9307918548584), (114, 22.42287826538086), (53, 21.929218292236328), (95, 21.208690643310547), (118, 21.16971206665039), (37, 20.66012191772461)]  \n",
       "1     [(120, 32.379642486572266), (41, 26.605640411376953), (37, 24.12421417236328), (71, 24.06833267211914), (138, 22.878767013549805), (125, 18.292133331298828), (146, 14.526366233825684), (27, 13.850459098815918), (58, 10.646146774291992), (87, 10.283836364746094)]  \n",
       "2  [(55, 13.173197746276855), (146, 13.0884370803833), (139, 12.635540962219238), (141, 7.326050758361816), (143, 2.9512789249420166), (138, 2.7054619789123535), (28, 1.7319763898849487), (59, 1.7102030515670776), (120, 1.5420844554901123), (134, 0.14325737953186035)]  \n",
       "3                   [(33, 56.57527542114258), (73, 52.55316162109375), (39, 50.38872146606445), (105, 38.27677536010742), (60, 37.8847541809082), (74, 37.725341796875), (23, 37.699310302734375), (92, 36.5486946105957), (86, 36.41018295288086), (94, 36.00797653198242)]  \n",
       "4               [(82, 11.839689254760742), (103, 11.297845840454102), (7, 10.585664749145508), (100, 9.444416046142578), (85, 9.115898132324219), (44, 8.99427604675293), (8, 8.983870506286621), (145, 8.967763900756836), (21, 8.89068603515625), (71, 8.724923133850098)]  \n",
       "5        [(44, 12.585005760192871), (73, 11.871543884277344), (99, 11.64207935333252), (145, 11.426669120788574), (22, 11.040337562561035), (85, 11.000626564025879), (64, 10.954109191894531), (60, 10.921162605285645), (38, 10.692020416259766), (78, 10.53303050994873)]  \n",
       "6       [(146, 15.670921325683594), (33, 13.63193416595459), (38, 13.101275444030762), (46, 11.774742126464844), (110, 11.241178512573242), (23, 10.615825653076172), (25, 10.598196029663086), (60, 10.187507629394531), (128, 9.966042518615723), (105, 9.20401382446289)]  \n",
       "7               [(83, 11.999852180480957), (75, 11.122471809387207), (80, 10.408059120178223), (97, 9.939044952392578), (119, 9.043347358703613), (69, 8.9954833984375), (35, 8.953094482421875), (31, 8.839223861694336), (81, 8.43713092803955), (121, 8.344532012939453)]  \n",
       "8            [(103, 73.35855102539062), (44, 55.93171691894531), (121, 46.63677215576172), (55, 45.512474060058594), (85, 42.45634841918945), (51, 41.21355056762695), (79, 39.89340591430664), (78, 39.81708526611328), (88, 38.932743072509766), (100, 38.74076843261719)]  \n",
       "9          [(138, 27.454126358032227), (52, 22.09364891052246), (123, 19.40737533569336), (124, 18.9996337890625), (58, 17.746326446533203), (82, 16.416767120361328), (139, 15.855134010314941), (57, 15.353630065917969), (51, 9.520898818969727), (86, 9.35458755493164)]  "
      ]
     },
     "metadata": {},
     "output_type": "display_data"
    }
   ],
   "source": [
    "# Evaluate the model by computing the RMSE on the test data\n",
    "predictions = model.transform(testing_df)\n",
    "\n",
    "# Generate top 10 joke recommendations for each user\n",
    "userRecs = model.recommendForAllUsers(10)\n",
    "\n",
    "showDF(userRecs)\n",
    "\n",
    "# Generate top 10 user recommendations for each joke\n",
    "jokeRecs = model.recommendForAllItems(10)"
   ]
  },
  {
   "cell_type": "code",
   "execution_count": 12,
   "metadata": {},
   "outputs": [
    {
     "data": {
      "text/html": [
       "<div>\n",
       "<style scoped>\n",
       "    .dataframe tbody tr th:only-of-type {\n",
       "        vertical-align: middle;\n",
       "    }\n",
       "\n",
       "    .dataframe tbody tr th {\n",
       "        vertical-align: top;\n",
       "    }\n",
       "\n",
       "    .dataframe thead th {\n",
       "        text-align: right;\n",
       "    }\n",
       "</style>\n",
       "<table border=\"1\" class=\"dataframe\">\n",
       "  <thead>\n",
       "    <tr style=\"text-align: right;\">\n",
       "      <th></th>\n",
       "      <th>userid</th>\n",
       "      <th>recommendations</th>\n",
       "    </tr>\n",
       "  </thead>\n",
       "  <tbody>\n",
       "    <tr>\n",
       "      <th>0</th>\n",
       "      <td>65</td>\n",
       "      <td>[(44, 12.585005760192871), (73, 11.871543884277344), (99, 11.64207935333252), (145, 11.426669120788574), (22, 11.040337562561035), (85, 11.000626564025879), (64, 10.954109191894531), (60, 10.921162605285645), (38, 10.692020416259766), (78, 10.53303050994873)]</td>\n",
       "    </tr>\n",
       "  </tbody>\n",
       "</table>\n",
       "</div>"
      ],
      "text/plain": [
       "   userid  \\\n",
       "0      65   \n",
       "\n",
       "                                                                                                                                                                                                                                                       recommendations  \n",
       "0  [(44, 12.585005760192871), (73, 11.871543884277344), (99, 11.64207935333252), (145, 11.426669120788574), (22, 11.040337562561035), (85, 11.000626564025879), (64, 10.954109191894531), (60, 10.921162605285645), (38, 10.692020416259766), (78, 10.53303050994873)]  "
      ]
     },
     "metadata": {},
     "output_type": "display_data"
    }
   ],
   "source": [
    "showDF(userRecs.filter(userRecs.userid == 65))"
   ]
  },
  {
   "cell_type": "code",
   "execution_count": 13,
   "metadata": {},
   "outputs": [
    {
     "data": {
      "text/html": [
       "\n",
       "        <iframe\n",
       "            width=\"700\"\n",
       "            height=\"200\"\n",
       "            src=\"images/init94.html\"\n",
       "            frameborder=\"0\"\n",
       "            allowfullscreen\n",
       "        ></iframe>\n",
       "        "
      ],
      "text/plain": [
       "<IPython.lib.display.IFrame at 0x7f7facb37b90>"
      ]
     },
     "execution_count": 13,
     "metadata": {},
     "output_type": "execute_result"
    }
   ],
   "source": [
    "IFrame(src='images/init94.html', width=700, height=200)"
   ]
  },
  {
   "cell_type": "code",
   "execution_count": 14,
   "metadata": {},
   "outputs": [
    {
     "data": {
      "text/html": [
       "\n",
       "        <iframe\n",
       "            width=\"700\"\n",
       "            height=\"200\"\n",
       "            src=\"images/init43.html\"\n",
       "            frameborder=\"0\"\n",
       "            allowfullscreen\n",
       "        ></iframe>\n",
       "        "
      ],
      "text/plain": [
       "<IPython.lib.display.IFrame at 0x7f7fbc67a0d0>"
      ]
     },
     "execution_count": 14,
     "metadata": {},
     "output_type": "execute_result"
    }
   ],
   "source": [
    "IFrame(src='images/init43.html', width=700, height=200)"
   ]
  },
  {
   "cell_type": "code",
   "execution_count": 16,
   "metadata": {},
   "outputs": [],
   "source": [
    "spark.stop()"
   ]
  }
 ],
 "metadata": {
  "kernelspec": {
   "display_name": "Python 3",
   "language": "python",
   "name": "python3"
  },
  "language_info": {
   "codemirror_mode": {
    "name": "ipython",
    "version": 3
   },
   "file_extension": ".py",
   "mimetype": "text/x-python",
   "name": "python",
   "nbconvert_exporter": "python",
   "pygments_lexer": "ipython3",
   "version": "3.7.6"
  }
 },
 "nbformat": 4,
 "nbformat_minor": 2
}
